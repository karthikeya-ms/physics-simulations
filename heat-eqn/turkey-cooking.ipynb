{
 "cells": [
  {
   "cell_type": "code",
   "execution_count": 167,
   "metadata": {},
   "outputs": [],
   "source": [
    "import numpy as np\n",
    "import matplotlib.pyplot as plt\n",
    "from matplotlib import animation\n",
    "from mpl_toolkits.mplot3d import Axes3D\n",
    "from matplotlib.animation import PillowWriter\n",
    "from matplotlib import _cm\n",
    "from skimage import color\n",
    "from skimage import io\n",
    "import numba\n",
    "from numba import jit\n",
    "\n"
   ]
  },
  {
   "cell_type": "code",
   "execution_count": 168,
   "metadata": {},
   "outputs": [],
   "source": [
    "edge = np.linspace(0, 1, 1000) #100 points from 0 to 1 including 0 and 1\n",
    "xv, yv = np.meshgrid(edge, edge)"
   ]
  },
  {
   "cell_type": "code",
   "execution_count": null,
   "metadata": {},
   "outputs": [],
   "source": [
    "from PIL import Image\n",
    "import numpy as np\n",
    "import matplotlib.pyplot as plt\n",
    "\n",
    "# 1. Load the image\n",
    "img = Image.open('turkey.png')\n",
    "\n",
    "img = img.resize((100, 100))\n",
    "plt.imshow(img)\n",
    "img_np = np.array(img)\n",
    "if img_np.shape[-1] == 4:\n",
    "    img_np = img_np[:, :, :3]  # Keep only RGB\n",
    "    \n",
    "img_norm = img_np / 255.0\n",
    "img_gray = np.mean(img_norm, axis=2)  # (height, width)\n",
    "\n",
    "# # 7. Threshold to get binary turkey mask\n",
    "turkey_bool = img_gray < 0.9  # adjust threshold slightly if needed!\n",
    "turkey_bool = np.flip(turkey_bool, axis=0)\n",
    "\n",
    "\n"
   ]
  },
  {
   "cell_type": "code",
   "execution_count": null,
   "metadata": {},
   "outputs": [],
   "source": [
    "turkey_bool"
   ]
  },
  {
   "cell_type": "code",
   "execution_count": 155,
   "metadata": {},
   "outputs": [],
   "source": [
    "a_turk = 1.32e-7"
   ]
  },
  {
   "cell_type": "code",
   "execution_count": 156,
   "metadata": {},
   "outputs": [],
   "source": [
    "rawturk_temp = 275.15 + 25\n",
    "oven_temp = 275.15 + 165"
   ]
  },
  {
   "cell_type": "code",
   "execution_count": 157,
   "metadata": {},
   "outputs": [],
   "source": [
    "init_heat = np.zeros([100, 100]) + oven_temp\n",
    "init_heat[turkey_bool] = rawturk_temp"
   ]
  },
  {
   "cell_type": "code",
   "execution_count": null,
   "metadata": {},
   "outputs": [],
   "source": [
    "plt.contourf(init_heat)"
   ]
  },
  {
   "cell_type": "code",
   "execution_count": 159,
   "metadata": {},
   "outputs": [],
   "source": [
    "times = 36000\n",
    "times_snapshot = 3600\n",
    "f = int(times/times_snapshot)\n",
    "heat_frames = np.zeros([times_snapshot, 100, 100])\n",
    "heat_frames[0] = init_heat\n"
   ]
  },
  {
   "cell_type": "code",
   "execution_count": 160,
   "metadata": {},
   "outputs": [],
   "source": [
    "x = 0.5\n",
    "dx = 0.5/100\n",
    "dt = 1"
   ]
  },
  {
   "cell_type": "code",
   "execution_count": null,
   "metadata": {},
   "outputs": [],
   "source": [
    "a_turk*dt/dx**2"
   ]
  },
  {
   "cell_type": "code",
   "execution_count": 162,
   "metadata": {},
   "outputs": [],
   "source": [
    "@numba.jit(\"f8[:,:,:](f8[:,:,:],b1[:,:])\", nopython=True, nogil=True)\n",
    "def solve_heat(heatmap, is_turkey):\n",
    "    cs = heatmap[0].copy() #current state\n",
    "    length = len(cs[0])\n",
    "    cf = 0 #current frame\n",
    "    for t in range(1, times):\n",
    "        ns = cs.copy()\n",
    "        for i in range(1, length-1):\n",
    "            for j in range(1, length -1):\n",
    "                if is_turkey[j][i]:\n",
    "                    a = a_turk\n",
    "                    ns[j][i] = cs[j][i] +a*dt/dx**2 * (cs[j+1][i] + cs[j-1][i] +\\\n",
    "                                                       cs[j][i+1] + cs[j][i-1] -\\\n",
    "                                                        4*cs[j][i])\n",
    "        cs = ns.copy()\n",
    "        if t%f ==0:\n",
    "            cf = cf +1\n",
    "            heatmap[cf] = cs\n",
    "    return heatmap"
   ]
  },
  {
   "cell_type": "code",
   "execution_count": 163,
   "metadata": {},
   "outputs": [],
   "source": [
    "heat_frames = solve_heat(heat_frames, turkey_bool)"
   ]
  },
  {
   "cell_type": "code",
   "execution_count": 164,
   "metadata": {},
   "outputs": [],
   "source": [
    "heat_frames -=273.15"
   ]
  },
  {
   "cell_type": "code",
   "execution_count": null,
   "metadata": {},
   "outputs": [],
   "source": [
    "my_cmap = plt.get_cmap('inferno')\n",
    "plt.figure(figsize=(8,8))\n",
    "a = plt.contourf(heat_frames[900], 100, cmap = my_cmap, vmin=rawturk_temp - 273.15, vmax=oven_temp-273.15)\n",
    "plt.colorbar(a)"
   ]
  },
  {
   "cell_type": "code",
   "execution_count": null,
   "metadata": {},
   "outputs": [],
   "source": [
    "def animate(i):\n",
    "    ax.clear()\n",
    "    ax.contourf(heat_frames[10*i], 100, cmap = my_cmap, vmin = rawturk_temp-273.15, vmax = oven_temp-273.15)\n",
    "\n",
    "    return fig,\n",
    "fig, ax = plt.subplots(figsize=(8,6))\n",
    "ani = animation.FuncAnimation(fig, animate, frames = 359, interval=50)\n",
    "ani.save('cooked.gif', writer='pillow', fps=20)"
   ]
  }
 ],
 "metadata": {
  "kernelspec": {
   "display_name": "string-sim",
   "language": "python",
   "name": "python3"
  },
  "language_info": {
   "codemirror_mode": {
    "name": "ipython",
    "version": 3
   },
   "file_extension": ".py",
   "mimetype": "text/x-python",
   "name": "python",
   "nbconvert_exporter": "python",
   "pygments_lexer": "ipython3",
   "version": "3.12.9"
  }
 },
 "nbformat": 4,
 "nbformat_minor": 2
}
